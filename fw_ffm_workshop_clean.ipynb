{
 "cells": [
  {
   "cell_type": "markdown",
   "metadata": {},
   "source": [
    "# Hi! welcome to the Fwumious Wabbit workshop\n",
    "\n",
    "### Before you start, some prerequisites:\n",
    "\n",
    "This workshop was built and tested on linux and macOS. no guarantees for other operating systems.\n",
    "if you run into issues, or some of the instructions are outdated, feel free to contact me at ykarni@outbrain.com"
   ]
  },
  {
   "cell_type": "markdown",
   "metadata": {},
   "source": [
    "You'll need to have [python 3](https://www.python.org/downloads/) installed,\n",
    "and the up-to-date rust tools (rustc, cargo).\n",
    "\n",
    "If you don't have rust, we recommend installing with [rustup](https://rustup.rs/).\n",
    "\n",
    "Create a designated work dir for the workshop.\n",
    "\n",
    "Download the fwumious wabbit code, and build it:\n",
    "\n",
    "(make sure to follow these instructions starting from the directory where you run jupyter notebook from,\n",
    "or use another and just copy the fw binary so that it's available)\n",
    "\n",
    "```bash\n",
    "git clone https://github.com/outbrain/fwumious_wabbit.git\n",
    "cd fwumious_wabbit\n",
    "cargo build --release\n",
    "cp target/release/fw .. # if you didn't start from the desired work dir, replace .. with your work dir\n",
    "cd ..\n",
    "```\n",
    "\n",
    "### If you followed these instructions carefully, fwumious wabbit is now ready to run:"
   ]
  },
  {
   "cell_type": "code",
   "execution_count": null,
   "metadata": {},
   "outputs": [],
   "source": [
    "!./fw --help"
   ]
  },
  {
   "cell_type": "markdown",
   "metadata": {},
   "source": [
    "### Downloading the dataset\n",
    "hopefully you already downloaded the dataset files from google drive:\n",
    "\n",
    "https://drive.google.com/drive/folders/1uNpus6CehoamstYh-JFBE_cwbJ-JLizM?usp=sharing"
   ]
  },
  {
   "cell_type": "markdown",
   "metadata": {},
   "source": [
    "### Review your working directory"
   ]
  },
  {
   "cell_type": "code",
   "execution_count": null,
   "metadata": {},
   "outputs": [],
   "source": [
    "!ls -lh"
   ]
  },
  {
   "cell_type": "markdown",
   "metadata": {},
   "source": [
    "### Let's have a glance at our dataset"
   ]
  },
  {
   "cell_type": "markdown",
   "metadata": {},
   "source": [
    "The dataset is split into train and dev (cross validation), roughly a 80:20 split,\n",
    "\n",
    "with train.fw.gz containing 69,713,384 records, and dev.fw.gz 17,428,347 records.\n",
    "\n",
    "let's examine a single record:"
   ]
  },
  {
   "cell_type": "code",
   "execution_count": null,
   "metadata": {},
   "outputs": [],
   "source": [
    "!tail -n 1 sample.fw"
   ]
  },
  {
   "cell_type": "markdown",
   "metadata": {},
   "source": [
    "Let's use the namespace map file to understand better what we see:"
   ]
  },
  {
   "cell_type": "code",
   "execution_count": null,
   "metadata": {},
   "outputs": [],
   "source": [
    "!cat vw_namespace_map.csv"
   ]
  },
  {
   "cell_type": "markdown",
   "metadata": {},
   "source": [
    "### Great! now let's give fwumious wabbit a test drive\n",
    "\n",
    "We'll start by training a simple logistic regression model:"
   ]
  },
  {
   "cell_type": "code",
   "execution_count": null,
   "metadata": {},
   "outputs": [],
   "source": [
    "from fw_util import train_loop\n",
    "\n",
    "max_iterations = 20\n",
    "print_intermediate_loss = True"
   ]
  },
  {
   "cell_type": "code",
   "execution_count": null,
   "metadata": {},
   "outputs": [],
   "source": [
    "common_args_str = \" \".join([\"--cache\", \\\n",
    "    \"--linear uuid --linear platform --linear geo_location --linear traffic_source --linear document_id\", \\\n",
    "    \"--linear source_id --linear publisher_id --linear categories --linear ad_id --linear campaign_id --linear advertiser_id\", \\\n",
    "    \"--linear ad_document_id --linear ad_source_id --linear ad_publisher_id --linear ad_categories --linear user_categories\"])\n",
    "\n",
    "optimization_params = \"--adaptive --sgd\"\n",
    "\n",
    "model_name = \"logistic.1\""
   ]
  },
  {
   "cell_type": "code",
   "execution_count": null,
   "metadata": {},
   "outputs": [],
   "source": [
    "iterations = train_loop(common_args_str, optimization_params, model_name, max_iterations, print_intermediate_loss)"
   ]
  },
  {
   "cell_type": "markdown",
   "metadata": {},
   "source": [
    "### Optional step: kaggle submission\n",
    "Let's see how would we fare on the Outbrain click prediction kaggle with this very basic model."
   ]
  },
  {
   "cell_type": "code",
   "execution_count": null,
   "metadata": {},
   "outputs": [],
   "source": [
    "from create_submission_file import create_submission_file\n",
    "from fw_util import create_model_and_predict_for_test_set\n",
    "\n",
    "create_model_and_predict_for_test_set(common_args_str, optimization_params, model_name, iterations)\n",
    "create_submission_file(\"logistic.1.test_preds\", \"logistic.1.submission.csv\")"
   ]
  },
  {
   "cell_type": "markdown",
   "metadata": {},
   "source": [
    "We'll drag the output file 'logistic.1.submission.csv' to the target in the Outbrain Kaggle competition \"Late Submission\" form, which you can find here: https://www.kaggle.com/c/outbrain-click-prediction/data,\n",
    "\n",
    "Click \"Upload\" and get the results shortly,\n",
    "\n",
    "and use the Leaderboard to see where this result would place us"
   ]
  },
  {
   "cell_type": "markdown",
   "metadata": {},
   "source": [
    "**we scored 0.64318, which would put as at 265th place out of 978. can we do better?**"
   ]
  },
  {
   "cell_type": "markdown",
   "metadata": {},
   "source": [
    "### Let's try some meta-parameter search:\n",
    "Try tweaking the learning rate (\"-l 0.5\") and adagrad smoothing (\"--power_t 0.5\") command line arguments.\n",
    "See if you can get better results just by changing them.\n",
    "\n",
    "Succeeded? great, me too! here's what I have just by trying out a few values:"
   ]
  },
  {
   "cell_type": "code",
   "execution_count": null,
   "metadata": {},
   "outputs": [],
   "source": [
    "common_args_str = \" \".join([\"--cache\", \\\n",
    "    \"--linear uuid --linear platform --linear geo_location --linear traffic_source\", \\\n",
    "    \"--linear document_id --linear source_id --linear publisher_id --linear categories\", \\\n",
    "    \"--linear ad_id --linear campaign_id --linear advertiser_id\", \\\n",
    "    \"--linear ad_document_id --linear ad_source_id --linear ad_publisher_id\", \\\n",
    "    \"--linear ad_categories --linear user_categories\"])\n",
    "\n",
    "optimization_params = \"--adaptive --sgd --power_t 0.2 -l 0.01\"\n",
    "\n",
    "model_name = \"logistic.2\""
   ]
  },
  {
   "cell_type": "code",
   "execution_count": null,
   "metadata": {},
   "outputs": [],
   "source": [
    "iterations = train_loop(common_args_str, optimization_params, model_name, max_iterations, print_intermediate_loss)"
   ]
  },
  {
   "cell_type": "markdown",
   "metadata": {},
   "source": [
    "### That was nice! time for some namespace-mixing action\n",
    "The big guns! let's try out different feature combinations using the \"--linear namespace_a,namespace_b\" command line argument.\n",
    "\n",
    "Go over the namespace list and try to make an educated guess.\n",
    "\n",
    "How did it go? after some failures, I guessed that combining the publisher_id and advertiser_id might help, and also combining user categories and ad categories, and it did!"
   ]
  },
  {
   "cell_type": "code",
   "execution_count": null,
   "metadata": {},
   "outputs": [],
   "source": [
    "common_args_str = \" \".join([\"--cache\", \\\n",
    "    \"--linear publisher_id,advertiser_id --linear ad_categories,user_categories\", \\\n",
    "    \"--linear uuid --linear platform --linear geo_location --linear traffic_source\", \\\n",
    "    \"--linear document_id --linear source_id --linear publisher_id --linear categories\", \\\n",
    "    \"--linear ad_id --linear campaign_id --linear advertiser_id\", \\\n",
    "    \"--linear ad_document_id --linear ad_source_id --linear ad_publisher_id\", \\\n",
    "    \"--linear ad_categories --linear user_categories\"])\n",
    "\n",
    "optimization_params = \"--adaptive --sgd --power_t 0.2 -l 0.01\"\n",
    "\n",
    "model_name = \"logistic.3\""
   ]
  },
  {
   "cell_type": "code",
   "execution_count": null,
   "metadata": {},
   "outputs": [],
   "source": [
    "iterations = train_loop(common_args_str, optimization_params, model_name, max_iterations, print_intermediate_loss)"
   ]
  },
  {
   "cell_type": "markdown",
   "metadata": {},
   "source": [
    "### Not bad! but we can do better.\n",
    "\n",
    "Do we have collisions? try tweaking the hash space size, using the --bit_precision (or -b) command line argument:"
   ]
  },
  {
   "cell_type": "code",
   "execution_count": null,
   "metadata": {},
   "outputs": [],
   "source": [
    "common_args_str = \" \".join([\"--cache -b 25\", \\\n",
    "    \"--linear publisher_id,advertiser_id --linear ad_categories,user_categories\", \\\n",
    "    \"--linear uuid --linear platform --linear geo_location --linear traffic_source\", \\\n",
    "    \"--linear document_id --linear source_id --linear publisher_id --linear categories\", \\\n",
    "    \"--linear ad_id --linear campaign_id --linear advertiser_id\", \\\n",
    "    \"--linear ad_document_id --linear ad_source_id --linear ad_publisher_id\", \\\n",
    "    \"--linear ad_categories --linear user_categories\"])\n",
    "\n",
    "optimization_params = \"--adaptive --sgd --power_t 0.2 -l 0.01\"\n",
    "\n",
    "model_name = \"logistic.4\""
   ]
  },
  {
   "cell_type": "code",
   "execution_count": null,
   "metadata": {},
   "outputs": [],
   "source": [
    "iterations = train_loop(common_args_str, optimization_params, model_name, max_iterations, print_intermediate_loss)"
   ]
  },
  {
   "cell_type": "markdown",
   "metadata": {},
   "source": [
    "### Nice, it doesn't come free though, we pay with model size:"
   ]
  },
  {
   "cell_type": "code",
   "execution_count": null,
   "metadata": {},
   "outputs": [],
   "source": [
    "!ls -lh model.* | awk -F \" \" '{print $5\", \"$9}'"
   ]
  },
  {
   "cell_type": "markdown",
   "metadata": {},
   "source": [
    "### so, where did logistic regression take us so far?\n",
    "Time for another kaggle submission:"
   ]
  },
  {
   "cell_type": "code",
   "execution_count": null,
   "metadata": {},
   "outputs": [],
   "source": [
    "from create_submission_file import create_submission_file\n",
    "from fw_util import create_model_and_predict_for_test_set\n",
    "\n",
    "create_model_and_predict_for_test_set(common_args_str, optimization_params, model_name, iterations)\n",
    "create_submission_file(\"logistic.4.test_preds\", \"logistic.4.submission.csv\")"
   ]
  },
  {
   "cell_type": "markdown",
   "metadata": {},
   "source": [
    "**We scored 0.65563, which would place us at 166th place out of 978.** nice improvement of 99 places - logistic regression with feature combinations can go a long way for our use case."
   ]
  },
  {
   "cell_type": "markdown",
   "metadata": {},
   "source": [
    "### Sweet! but we want to see some FFM action please...\n",
    "Let's try to go all-in, and have a field for each namespace:\n"
   ]
  },
  {
   "cell_type": "code",
   "execution_count": null,
   "metadata": {},
   "outputs": [],
   "source": [
    "common_args_str = \" \".join([\"--cache -b 25 --ffm_k 2 --ffm_bit_precision 25\", \\\n",
    "    \"--linear publisher_id,advertiser_id --linear ad_categories,user_categories\", \\\n",
    "    \"--linear uuid --linear platform --linear geo_location --linear traffic_source\", \\\n",
    "    \"--linear document_id --linear source_id --linear publisher_id --linear categories\", \\\n",
    "    \"--linear ad_id --linear campaign_id --linear advertiser_id\", \\\n",
    "    \"--linear ad_document_id --linear ad_source_id --linear ad_publisher_id\", \\\n",
    "    \"--linear ad_categories --linear user_categories\", \\\n",
    "    \"--ffm_field_verbose uuid --ffm_field_verbose platform --ffm_field_verbose geo_location\", \\\n",
    "    \"--ffm_field_verbose traffic_source --ffm_field_verbose document_id\", \\\n",
    "    \"--ffm_field_verbose source_id --ffm_field_verbose publisher_id\", \\\n",
    "    \"--ffm_field_verbose categories --ffm_field_verbose ad_id --ffm_field_verbose campaign_id\", \\\n",
    "    \"--ffm_field_verbose advertiser_id --ffm_field_verbose ad_document_id\", \\\n",
    "    \"--ffm_field_verbose ad_source_id --ffm_field_verbose ad_publisher_id\", \\\n",
    "    \"--ffm_field_verbose ad_categories --ffm_field_verbose user_categories\"])\n",
    "\n",
    "optimization_params = \"--adaptive --sgd --power_t 0.2 --ffm_power_t 0.2 -l 0.01 --ffm_learning_rate 0.01\"\n",
    "\n",
    "model_name = \"ffm.1\""
   ]
  },
  {
   "cell_type": "code",
   "execution_count": null,
   "metadata": {},
   "outputs": [],
   "source": [
    "iterations = train_loop(common_args_str, optimization_params, model_name, max_iterations, print_intermediate_loss)"
   ]
  },
  {
   "cell_type": "markdown",
   "metadata": {},
   "source": [
    "### FFM models are even bigger:"
   ]
  },
  {
   "cell_type": "code",
   "execution_count": null,
   "metadata": {},
   "outputs": [],
   "source": [
    "!ls -lh model.* | awk -F \" \" '{print $5\", \"$9}'"
   ]
  },
  {
   "cell_type": "markdown",
   "metadata": {},
   "source": [
    "### Can we improve further by tweaking the meta parameters?\n",
    "We sure can, BUT I will leave most of the tweaks for you to experiment with. only change here is using ffm_k (the latent vector length) from 2 to 4 - but consider more tweaks:\n",
    "* Divide the fields to smaller groups, for example '--ffm_field_verbose uuid,platform,document_id --ffm_field_verbose ad_categories,categories,user_categories'\n",
    "* Get rid of features in the linear part if they don't help (--interaction blah)\n",
    "* You can still add more feature combinations!\n",
    "* Tweak ffm_power_t, ffm_learning_rate for the optimization process\n"
   ]
  },
  {
   "cell_type": "code",
   "execution_count": null,
   "metadata": {},
   "outputs": [],
   "source": [
    "common_args_str = \" \".join([\"--cache -b 25 --ffm_k 2 --ffm_bit_precision 25\", \\\n",
    "    \"--linear publisher_id,advertiser_id --linear ad_categories,user_categories\", \\\n",
    "    \"--linear uuid --linear platform --linear geo_location --linear traffic_source\", \\\n",
    "    \"--linear document_id --linear source_id --linear publisher_id --linear categories\", \\\n",
    "    \"--linear ad_id --linear campaign_id --linear advertiser_id\", \\\n",
    "    \"--linear ad_document_id --linear ad_source_id --linear ad_publisher_id\", \\\n",
    "    \"--linear ad_categories --linear user_categories\", \\\n",
    "    \"--ffm_field_verbose uuid --ffm_field_verbose platform --ffm_field_verbose geo_location\", \\\n",
    "    \"--ffm_field_verbose traffic_source --ffm_field_verbose document_id\", \\\n",
    "    \"--ffm_field_verbose source_id --ffm_field_verbose publisher_id\", \\\n",
    "    \"--ffm_field_verbose categories --ffm_field_verbose ad_id --ffm_field_verbose campaign_id\", \\\n",
    "    \"--ffm_field_verbose advertiser_id --ffm_field_verbose ad_document_id\", \\\n",
    "    \"--ffm_field_verbose ad_source_id --ffm_field_verbose ad_publisher_id\", \\\n",
    "    \"--ffm_field_verbose ad_categories --ffm_field_verbose user_categories\"])\n",
    "\n",
    "optimization_params = \"--adaptive --sgd --power_t 0.2 --ffm_power_t 0.2 -l 0.01 --ffm_learning_rate 0.01\"\n",
    "\n",
    "model_name = \"ffm.2\""
   ]
  },
  {
   "cell_type": "code",
   "execution_count": null,
   "metadata": {},
   "outputs": [],
   "source": [
    "iterations = train_loop(common_args_str, optimization_params, model_name, max_iterations, print_intermediate_loss)"
   ]
  },
  {
   "cell_type": "markdown",
   "metadata": {},
   "source": [
    "### Fresh from the oven: feature binning for numerical features\n",
    "We haven't touched the numerical feature \"user_page_views\" yet. in the presentation we saw the numerical feature binning capability in Fwumious Wabbit - let's try it out.\n",
    "\n",
    "The user_page_views feature has the count of user page views before the display event of the recommendation candidate.\n",
    "a user may have seen 0, 1, 4, 12, 30 or any old number in between or a bit above that.\n",
    "\n",
    "We'll use BinnerSqrt with a max value of 10, and resolution=1 - you can tweak those numbers to see if you can get better results.\n",
    "\n",
    "After defining the new feature (--transform), we can use it either in the linear part, alone or as part of an interaction - or as we do here: as a new field.\n",
    "\n",
    "Let's see if it will improve our model:"
   ]
  },
  {
   "cell_type": "code",
   "execution_count": null,
   "metadata": {},
   "outputs": [],
   "source": [
    "common_args_str = \" \".join([\"--cache -b 25 --ffm_k 4 --ffm_bit_precision 25\", \\\n",
    "    \"--transform page_views_sqrt=BinnerSqrt(user_page_views)(10,1)\", \\\n",
    "    \"--linear publisher_id,advertiser_id --linear ad_categories,user_categories\", \\\n",
    "    \"--linear uuid --linear platform --linear geo_location --linear traffic_source\", \\\n",
    "    \"--linear document_id --linear source_id --linear publisher_id --linear categories\", \\\n",
    "    \"--linear ad_id --linear campaign_id --linear advertiser_id\", \\\n",
    "    \"--linear ad_document_id --linear ad_source_id --linear ad_publisher_id\", \\\n",
    "    \"--linear ad_categories --linear user_categories\", \\\n",
    "    \"--ffm_field_verbose uuid --ffm_field_verbose platform --ffm_field_verbose geo_location\", \\\n",
    "    \"--ffm_field_verbose traffic_source --ffm_field_verbose document_id\", \\\n",
    "    \"--ffm_field_verbose source_id --ffm_field_verbose publisher_id\", \\\n",
    "    \"--ffm_field_verbose categories --ffm_field_verbose ad_id --ffm_field_verbose campaign_id\", \\\n",
    "    \"--ffm_field_verbose advertiser_id --ffm_field_verbose ad_document_id\", \\\n",
    "    \"--ffm_field_verbose ad_source_id --ffm_field_verbose ad_publisher_id\", \\\n",
    "    \"--ffm_field_verbose ad_categories --ffm_field_verbose user_categories --ffm_field_verbose page_views_sqrt\"])\n",
    "\n",
    "optimization_params = \"--adaptive --sgd --power_t 0.2 --ffm_power_t 0.2 -l 0.01 --ffm_learning_rate 0.01\"\n",
    "\n",
    "model_name = \"ffm.3\""
   ]
  },
  {
   "cell_type": "code",
   "execution_count": null,
   "metadata": {},
   "outputs": [],
   "source": [
    "iterations = train_loop(common_args_str, optimization_params, model_name, max_iterations, print_intermediate_loss)"
   ]
  },
  {
   "cell_type": "markdown",
   "metadata": {},
   "source": [
    "### To wrap things up, let's see where we are now on Kaggle:"
   ]
  },
  {
   "cell_type": "code",
   "execution_count": null,
   "metadata": {},
   "outputs": [],
   "source": [
    "from create_submission_file import create_submission_file\n",
    "from fw_util import create_model_and_predict_for_test_set\n",
    "\n",
    "create_model_and_predict_for_test_set(common_args_str, optimization_params, model_name, iterations)\n",
    "\n",
    "print(\"creating submission file from predictions\")\n",
    "create_submission_file(\"ffm.3.test_preds\", \"ffm.3.submission.csv\")\n",
    "print(\"all done! good luck.\")"
   ]
  },
  {
   "cell_type": "markdown",
   "metadata": {},
   "source": [
    "We scored 0.66619 which would place us on 106th place - 60 places up.\n",
    "\n",
    "Can you do better? if you want to play in the big league you'll probably need to do some more work on the dataset though.\n",
    "\n",
    "GOOD LUCK!"
   ]
  }
 ],
 "metadata": {
  "kernelspec": {
   "display_name": "Python 3",
   "language": "python",
   "name": "python3"
  },
  "language_info": {
   "codemirror_mode": {
    "name": "ipython",
    "version": 3
   },
   "file_extension": ".py",
   "mimetype": "text/x-python",
   "name": "python",
   "nbconvert_exporter": "python",
   "pygments_lexer": "ipython3",
   "version": "3.6.4"
  }
 },
 "nbformat": 4,
 "nbformat_minor": 4
}
